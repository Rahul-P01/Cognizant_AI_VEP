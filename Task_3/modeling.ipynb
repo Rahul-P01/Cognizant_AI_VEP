{
  "cells": [
    {
      "cell_type": "markdown",
      "metadata": {
        "id": "8rG0LrLjZ3gX"
      },
      "source": [
        "# Task 3 - Modeling\n",
        "\n",
        "This notebook will get you started by helping you to load the data, but then it'll be up to you to complete the task! If you need help, refer to the `modeling_walkthrough.ipynb` notebook.\n",
        "\n",
        "\n",
        "## Section 1 - Setup"
      ]
    },
    {
      "cell_type": "code",
      "execution_count": 46,
      "metadata": {
        "id": "nenrhey1aYiD"
      },
      "outputs": [],
      "source": [
        "import os\n",
        "import pandas as pd\n",
        "import numpy as np\n",
        "import datetime as dt\n",
        "import datetime_truncate as dtr\n",
        "\n",
        "from sklearn.preprocessing import OneHotEncoder\n",
        "from sklearn.preprocessing import OrdinalEncoder\n",
        "from sklearn.preprocessing import Normalizer\n",
        "\n",
        "from sklearn.linear_model import SGDRegressor\n",
        "from sklearn.ensemble import RandomForestRegressor\n",
        "from sklearn.svm import SVR\n",
        "from sklearn.ensemble import VotingRegressor\n",
        "\n",
        "from sklearn.compose import make_column_transformer\n",
        "from sklearn.pipeline import Pipeline\n",
        "\n",
        "from sklearn.model_selection import train_test_split\n",
        "from sklearn.model_selection import cross_validate\n",
        "from sklearn.model_selection import GridSearchCV\n",
        "from sklearn.model_selection import RandomizedSearchCV\n",
        "import joblib"
      ]
    },
    {
      "cell_type": "code",
      "execution_count": 4,
      "metadata": {},
      "outputs": [],
      "source": [
        "os.chdir('..')"
      ]
    },
    {
      "cell_type": "markdown",
      "metadata": {
        "id": "ncPFYiD_abg4"
      },
      "source": [
        "## Section 2 - Data loading\n",
        "\n",
        "Similar to before, let's load our data from Google Drive for the 3 datasets provided. Be sure to upload the datasets into Google Drive, so that you can access them here."
      ]
    },
    {
      "cell_type": "code",
      "execution_count": 5,
      "metadata": {
        "colab": {
          "base_uri": "https://localhost:8080/",
          "height": 206
        },
        "id": "hPJPVY2IaZdy",
        "outputId": "60a14471-4775-497f-ccda-8ef0f37148b8"
      },
      "outputs": [
        {
          "data": {
            "text/html": [
              "<div>\n",
              "<style scoped>\n",
              "    .dataframe tbody tr th:only-of-type {\n",
              "        vertical-align: middle;\n",
              "    }\n",
              "\n",
              "    .dataframe tbody tr th {\n",
              "        vertical-align: top;\n",
              "    }\n",
              "\n",
              "    .dataframe thead th {\n",
              "        text-align: right;\n",
              "    }\n",
              "</style>\n",
              "<table border=\"1\" class=\"dataframe\">\n",
              "  <thead>\n",
              "    <tr style=\"text-align: right;\">\n",
              "      <th></th>\n",
              "      <th>transaction_id</th>\n",
              "      <th>timestamp</th>\n",
              "      <th>product_id</th>\n",
              "      <th>category</th>\n",
              "      <th>customer_type</th>\n",
              "      <th>unit_price</th>\n",
              "      <th>quantity</th>\n",
              "      <th>total</th>\n",
              "      <th>payment_type</th>\n",
              "    </tr>\n",
              "  </thead>\n",
              "  <tbody>\n",
              "    <tr>\n",
              "      <th>0</th>\n",
              "      <td>a1c82654-c52c-45b3-8ce8-4c2a1efe63ed</td>\n",
              "      <td>2022-03-02 09:51:38</td>\n",
              "      <td>3bc6c1ea-0198-46de-9ffd-514ae3338713</td>\n",
              "      <td>fruit</td>\n",
              "      <td>gold</td>\n",
              "      <td>3.99</td>\n",
              "      <td>2</td>\n",
              "      <td>7.98</td>\n",
              "      <td>e-wallet</td>\n",
              "    </tr>\n",
              "    <tr>\n",
              "      <th>1</th>\n",
              "      <td>931ad550-09e8-4da6-beaa-8c9d17be9c60</td>\n",
              "      <td>2022-03-06 10:33:59</td>\n",
              "      <td>ad81b46c-bf38-41cf-9b54-5fe7f5eba93e</td>\n",
              "      <td>fruit</td>\n",
              "      <td>standard</td>\n",
              "      <td>3.99</td>\n",
              "      <td>1</td>\n",
              "      <td>3.99</td>\n",
              "      <td>e-wallet</td>\n",
              "    </tr>\n",
              "    <tr>\n",
              "      <th>2</th>\n",
              "      <td>ae133534-6f61-4cd6-b6b8-d1c1d8d90aea</td>\n",
              "      <td>2022-03-04 17:20:21</td>\n",
              "      <td>7c55cbd4-f306-4c04-a030-628cbe7867c1</td>\n",
              "      <td>fruit</td>\n",
              "      <td>premium</td>\n",
              "      <td>0.19</td>\n",
              "      <td>2</td>\n",
              "      <td>0.38</td>\n",
              "      <td>e-wallet</td>\n",
              "    </tr>\n",
              "    <tr>\n",
              "      <th>3</th>\n",
              "      <td>157cebd9-aaf0-475d-8a11-7c8e0f5b76e4</td>\n",
              "      <td>2022-03-02 17:23:58</td>\n",
              "      <td>80da8348-1707-403f-8be7-9e6deeccc883</td>\n",
              "      <td>fruit</td>\n",
              "      <td>gold</td>\n",
              "      <td>0.19</td>\n",
              "      <td>4</td>\n",
              "      <td>0.76</td>\n",
              "      <td>e-wallet</td>\n",
              "    </tr>\n",
              "    <tr>\n",
              "      <th>4</th>\n",
              "      <td>a81a6cd3-5e0c-44a2-826c-aea43e46c514</td>\n",
              "      <td>2022-03-05 14:32:43</td>\n",
              "      <td>7f5e86e6-f06f-45f6-bf44-27b095c9ad1d</td>\n",
              "      <td>fruit</td>\n",
              "      <td>basic</td>\n",
              "      <td>4.49</td>\n",
              "      <td>2</td>\n",
              "      <td>8.98</td>\n",
              "      <td>debit card</td>\n",
              "    </tr>\n",
              "  </tbody>\n",
              "</table>\n",
              "</div>"
            ],
            "text/plain": [
              "                         transaction_id            timestamp  \\\n",
              "0  a1c82654-c52c-45b3-8ce8-4c2a1efe63ed  2022-03-02 09:51:38   \n",
              "1  931ad550-09e8-4da6-beaa-8c9d17be9c60  2022-03-06 10:33:59   \n",
              "2  ae133534-6f61-4cd6-b6b8-d1c1d8d90aea  2022-03-04 17:20:21   \n",
              "3  157cebd9-aaf0-475d-8a11-7c8e0f5b76e4  2022-03-02 17:23:58   \n",
              "4  a81a6cd3-5e0c-44a2-826c-aea43e46c514  2022-03-05 14:32:43   \n",
              "\n",
              "                             product_id category customer_type  unit_price  \\\n",
              "0  3bc6c1ea-0198-46de-9ffd-514ae3338713    fruit          gold        3.99   \n",
              "1  ad81b46c-bf38-41cf-9b54-5fe7f5eba93e    fruit      standard        3.99   \n",
              "2  7c55cbd4-f306-4c04-a030-628cbe7867c1    fruit       premium        0.19   \n",
              "3  80da8348-1707-403f-8be7-9e6deeccc883    fruit          gold        0.19   \n",
              "4  7f5e86e6-f06f-45f6-bf44-27b095c9ad1d    fruit         basic        4.49   \n",
              "\n",
              "   quantity  total payment_type  \n",
              "0         2   7.98     e-wallet  \n",
              "1         1   3.99     e-wallet  \n",
              "2         2   0.38     e-wallet  \n",
              "3         4   0.76     e-wallet  \n",
              "4         2   8.98   debit card  "
            ]
          },
          "execution_count": 5,
          "metadata": {},
          "output_type": "execute_result"
        }
      ],
      "source": [
        "sales_df = pd.read_csv(\"Data/sales.csv\")\n",
        "sales_df.drop(columns=[\"Unnamed: 0\"], inplace=True, errors='ignore')\n",
        "sales_df.head()"
      ]
    },
    {
      "cell_type": "code",
      "execution_count": 6,
      "metadata": {
        "colab": {
          "base_uri": "https://localhost:8080/",
          "height": 206
        },
        "id": "BmrEgGsRawiS",
        "outputId": "b791c186-d224-4b6f-b6dd-ed3049f7a581"
      },
      "outputs": [
        {
          "data": {
            "text/html": [
              "<div>\n",
              "<style scoped>\n",
              "    .dataframe tbody tr th:only-of-type {\n",
              "        vertical-align: middle;\n",
              "    }\n",
              "\n",
              "    .dataframe tbody tr th {\n",
              "        vertical-align: top;\n",
              "    }\n",
              "\n",
              "    .dataframe thead th {\n",
              "        text-align: right;\n",
              "    }\n",
              "</style>\n",
              "<table border=\"1\" class=\"dataframe\">\n",
              "  <thead>\n",
              "    <tr style=\"text-align: right;\">\n",
              "      <th></th>\n",
              "      <th>id</th>\n",
              "      <th>timestamp</th>\n",
              "      <th>product_id</th>\n",
              "      <th>estimated_stock_pct</th>\n",
              "    </tr>\n",
              "  </thead>\n",
              "  <tbody>\n",
              "    <tr>\n",
              "      <th>0</th>\n",
              "      <td>4220e505-c247-478d-9831-6b9f87a4488a</td>\n",
              "      <td>2022-03-07 12:13:02</td>\n",
              "      <td>f658605e-75f3-4fed-a655-c0903f344427</td>\n",
              "      <td>0.75</td>\n",
              "    </tr>\n",
              "    <tr>\n",
              "      <th>1</th>\n",
              "      <td>f2612b26-fc82-49ea-8940-0751fdd4d9ef</td>\n",
              "      <td>2022-03-07 16:39:46</td>\n",
              "      <td>de06083a-f5c0-451d-b2f4-9ab88b52609d</td>\n",
              "      <td>0.48</td>\n",
              "    </tr>\n",
              "    <tr>\n",
              "      <th>2</th>\n",
              "      <td>989a287f-67e6-4478-aa49-c3a35dac0e2e</td>\n",
              "      <td>2022-03-01 18:17:43</td>\n",
              "      <td>ce8f3a04-d1a4-43b1-a7c2-fa1b8e7674c8</td>\n",
              "      <td>0.58</td>\n",
              "    </tr>\n",
              "    <tr>\n",
              "      <th>3</th>\n",
              "      <td>af8e5683-d247-46ac-9909-1a77bdebefb2</td>\n",
              "      <td>2022-03-02 14:29:09</td>\n",
              "      <td>c21e3ba9-92a3-4745-92c2-6faef73223f7</td>\n",
              "      <td>0.79</td>\n",
              "    </tr>\n",
              "    <tr>\n",
              "      <th>4</th>\n",
              "      <td>08a32247-3f44-4002-85fb-c198434dd4bb</td>\n",
              "      <td>2022-03-02 13:46:18</td>\n",
              "      <td>7f478817-aa5b-44e9-9059-8045228c9eb0</td>\n",
              "      <td>0.22</td>\n",
              "    </tr>\n",
              "  </tbody>\n",
              "</table>\n",
              "</div>"
            ],
            "text/plain": [
              "                                     id            timestamp  \\\n",
              "0  4220e505-c247-478d-9831-6b9f87a4488a  2022-03-07 12:13:02   \n",
              "1  f2612b26-fc82-49ea-8940-0751fdd4d9ef  2022-03-07 16:39:46   \n",
              "2  989a287f-67e6-4478-aa49-c3a35dac0e2e  2022-03-01 18:17:43   \n",
              "3  af8e5683-d247-46ac-9909-1a77bdebefb2  2022-03-02 14:29:09   \n",
              "4  08a32247-3f44-4002-85fb-c198434dd4bb  2022-03-02 13:46:18   \n",
              "\n",
              "                             product_id  estimated_stock_pct  \n",
              "0  f658605e-75f3-4fed-a655-c0903f344427                 0.75  \n",
              "1  de06083a-f5c0-451d-b2f4-9ab88b52609d                 0.48  \n",
              "2  ce8f3a04-d1a4-43b1-a7c2-fa1b8e7674c8                 0.58  \n",
              "3  c21e3ba9-92a3-4745-92c2-6faef73223f7                 0.79  \n",
              "4  7f478817-aa5b-44e9-9059-8045228c9eb0                 0.22  "
            ]
          },
          "execution_count": 6,
          "metadata": {},
          "output_type": "execute_result"
        }
      ],
      "source": [
        "stock_df = pd.read_csv(\"Data/sensor_stock_levels.csv\")\n",
        "stock_df.drop(columns=[\"Unnamed: 0\"], inplace=True, errors='ignore')\n",
        "stock_df.head()"
      ]
    },
    {
      "cell_type": "code",
      "execution_count": 7,
      "metadata": {
        "colab": {
          "base_uri": "https://localhost:8080/",
          "height": 206
        },
        "id": "qDJ9PrbZa5Ro",
        "outputId": "c62fb3b1-88ff-44b6-89d7-725416f84835"
      },
      "outputs": [
        {
          "data": {
            "text/html": [
              "<div>\n",
              "<style scoped>\n",
              "    .dataframe tbody tr th:only-of-type {\n",
              "        vertical-align: middle;\n",
              "    }\n",
              "\n",
              "    .dataframe tbody tr th {\n",
              "        vertical-align: top;\n",
              "    }\n",
              "\n",
              "    .dataframe thead th {\n",
              "        text-align: right;\n",
              "    }\n",
              "</style>\n",
              "<table border=\"1\" class=\"dataframe\">\n",
              "  <thead>\n",
              "    <tr style=\"text-align: right;\">\n",
              "      <th></th>\n",
              "      <th>id</th>\n",
              "      <th>timestamp</th>\n",
              "      <th>temperature</th>\n",
              "    </tr>\n",
              "  </thead>\n",
              "  <tbody>\n",
              "    <tr>\n",
              "      <th>0</th>\n",
              "      <td>d1ca1ef8-0eac-42fc-af80-97106efc7b13</td>\n",
              "      <td>2022-03-07 15:55:20</td>\n",
              "      <td>2.96</td>\n",
              "    </tr>\n",
              "    <tr>\n",
              "      <th>1</th>\n",
              "      <td>4b8a66c4-0f3a-4f16-826f-8cf9397e9d18</td>\n",
              "      <td>2022-03-01 09:18:22</td>\n",
              "      <td>1.88</td>\n",
              "    </tr>\n",
              "    <tr>\n",
              "      <th>2</th>\n",
              "      <td>3d47a0c7-1e72-4512-812f-b6b5d8428cf3</td>\n",
              "      <td>2022-03-04 15:12:26</td>\n",
              "      <td>1.78</td>\n",
              "    </tr>\n",
              "    <tr>\n",
              "      <th>3</th>\n",
              "      <td>9500357b-ce15-424a-837a-7677b386f471</td>\n",
              "      <td>2022-03-02 12:30:42</td>\n",
              "      <td>2.18</td>\n",
              "    </tr>\n",
              "    <tr>\n",
              "      <th>4</th>\n",
              "      <td>c4b61fec-99c2-4c6d-8e5d-4edd8c9632fa</td>\n",
              "      <td>2022-03-05 09:09:33</td>\n",
              "      <td>1.38</td>\n",
              "    </tr>\n",
              "  </tbody>\n",
              "</table>\n",
              "</div>"
            ],
            "text/plain": [
              "                                     id            timestamp  temperature\n",
              "0  d1ca1ef8-0eac-42fc-af80-97106efc7b13  2022-03-07 15:55:20         2.96\n",
              "1  4b8a66c4-0f3a-4f16-826f-8cf9397e9d18  2022-03-01 09:18:22         1.88\n",
              "2  3d47a0c7-1e72-4512-812f-b6b5d8428cf3  2022-03-04 15:12:26         1.78\n",
              "3  9500357b-ce15-424a-837a-7677b386f471  2022-03-02 12:30:42         2.18\n",
              "4  c4b61fec-99c2-4c6d-8e5d-4edd8c9632fa  2022-03-05 09:09:33         1.38"
            ]
          },
          "execution_count": 7,
          "metadata": {},
          "output_type": "execute_result"
        }
      ],
      "source": [
        "temp_df = pd.read_csv(\"Data/sensor_storage_temperature.csv\")\n",
        "temp_df.drop(columns=[\"Unnamed: 0\"], inplace=True, errors='ignore')\n",
        "temp_df.head()"
      ]
    },
    {
      "cell_type": "markdown",
      "metadata": {
        "id": "bAd1UwJYbAt4"
      },
      "source": [
        "Now it's up to you, refer back to the steps in your strategic plan to complete this task. Good luck!"
      ]
    },
    {
      "cell_type": "code",
      "execution_count": 8,
      "metadata": {
        "colab": {
          "base_uri": "https://localhost:8080/"
        },
        "id": "CZVuKweGTy28",
        "outputId": "4a9d6539-3887-42a9-8c0b-d3cef7c768aa"
      },
      "outputs": [
        {
          "name": "stdout",
          "output_type": "stream",
          "text": [
            "<class 'pandas.core.frame.DataFrame'>\n",
            "RangeIndex: 7829 entries, 0 to 7828\n",
            "Data columns (total 9 columns):\n",
            " #   Column          Non-Null Count  Dtype  \n",
            "---  ------          --------------  -----  \n",
            " 0   transaction_id  7829 non-null   object \n",
            " 1   timestamp       7829 non-null   object \n",
            " 2   product_id      7829 non-null   object \n",
            " 3   category        7829 non-null   object \n",
            " 4   customer_type   7829 non-null   object \n",
            " 5   unit_price      7829 non-null   float64\n",
            " 6   quantity        7829 non-null   int64  \n",
            " 7   total           7829 non-null   float64\n",
            " 8   payment_type    7829 non-null   object \n",
            "dtypes: float64(2), int64(1), object(6)\n",
            "memory usage: 550.6+ KB\n"
          ]
        }
      ],
      "source": [
        "sales_df.info()"
      ]
    },
    {
      "cell_type": "code",
      "execution_count": 9,
      "metadata": {
        "colab": {
          "base_uri": "https://localhost:8080/"
        },
        "id": "MN3VrV3NT1QB",
        "outputId": "f7eb0338-7297-40c7-d8a1-33988750715b"
      },
      "outputs": [
        {
          "name": "stdout",
          "output_type": "stream",
          "text": [
            "<class 'pandas.core.frame.DataFrame'>\n",
            "RangeIndex: 15000 entries, 0 to 14999\n",
            "Data columns (total 4 columns):\n",
            " #   Column               Non-Null Count  Dtype  \n",
            "---  ------               --------------  -----  \n",
            " 0   id                   15000 non-null  object \n",
            " 1   timestamp            15000 non-null  object \n",
            " 2   product_id           15000 non-null  object \n",
            " 3   estimated_stock_pct  15000 non-null  float64\n",
            "dtypes: float64(1), object(3)\n",
            "memory usage: 468.9+ KB\n"
          ]
        }
      ],
      "source": [
        "stock_df.info()"
      ]
    },
    {
      "cell_type": "code",
      "execution_count": 10,
      "metadata": {
        "colab": {
          "base_uri": "https://localhost:8080/"
        },
        "id": "ZjhsajtmT3W1",
        "outputId": "9baf0351-e42a-47a4-bf78-7b7ee0f8b928"
      },
      "outputs": [
        {
          "name": "stdout",
          "output_type": "stream",
          "text": [
            "<class 'pandas.core.frame.DataFrame'>\n",
            "RangeIndex: 23890 entries, 0 to 23889\n",
            "Data columns (total 3 columns):\n",
            " #   Column       Non-Null Count  Dtype  \n",
            "---  ------       --------------  -----  \n",
            " 0   id           23890 non-null  object \n",
            " 1   timestamp    23890 non-null  object \n",
            " 2   temperature  23890 non-null  float64\n",
            "dtypes: float64(1), object(2)\n",
            "memory usage: 560.0+ KB\n"
          ]
        }
      ],
      "source": [
        "temp_df.info()"
      ]
    },
    {
      "cell_type": "markdown",
      "metadata": {
        "id": "4I9LX_ysJd7L"
      },
      "source": [
        "##  Section 3: Preprocessing Data"
      ]
    },
    {
      "cell_type": "code",
      "execution_count": 11,
      "metadata": {
        "id": "8lauZRBPJir2"
      },
      "outputs": [],
      "source": [
        "# Change timestamp to hourly\n",
        "sales_df['timestamp'] = sales_df.timestamp.apply(lambda x: dtr.truncate_hour(pd.to_datetime(x)))\n",
        "stock_df['timestamp'] = stock_df.timestamp.apply(lambda x: dtr.truncate_hour(pd.to_datetime(x)))\n",
        "temp_df['timestamp'] = temp_df.timestamp.apply(lambda x: dtr.truncate_hour(pd.to_datetime(x)))"
      ]
    },
    {
      "cell_type": "code",
      "execution_count": 12,
      "metadata": {
        "colab": {
          "base_uri": "https://localhost:8080/",
          "height": 206
        },
        "id": "d_VocGNZNY6l",
        "outputId": "68f12b47-80eb-4786-f9cb-dd9b23ee2cd5"
      },
      "outputs": [
        {
          "data": {
            "text/html": [
              "<div>\n",
              "<style scoped>\n",
              "    .dataframe tbody tr th:only-of-type {\n",
              "        vertical-align: middle;\n",
              "    }\n",
              "\n",
              "    .dataframe tbody tr th {\n",
              "        vertical-align: top;\n",
              "    }\n",
              "\n",
              "    .dataframe thead th {\n",
              "        text-align: right;\n",
              "    }\n",
              "</style>\n",
              "<table border=\"1\" class=\"dataframe\">\n",
              "  <thead>\n",
              "    <tr style=\"text-align: right;\">\n",
              "      <th></th>\n",
              "      <th>timestamp</th>\n",
              "      <th>product_id</th>\n",
              "      <th>quantity</th>\n",
              "      <th>total</th>\n",
              "    </tr>\n",
              "  </thead>\n",
              "  <tbody>\n",
              "    <tr>\n",
              "      <th>0</th>\n",
              "      <td>2022-03-01 09:00:00</td>\n",
              "      <td>00e120bb-89d6-4df5-bc48-a051148e3d03</td>\n",
              "      <td>3</td>\n",
              "      <td>33.5700</td>\n",
              "    </tr>\n",
              "    <tr>\n",
              "      <th>1</th>\n",
              "      <td>2022-03-01 09:00:00</td>\n",
              "      <td>01f3cdd9-8e9e-4dff-9b5c-69698a0388d0</td>\n",
              "      <td>3</td>\n",
              "      <td>4.4700</td>\n",
              "    </tr>\n",
              "    <tr>\n",
              "      <th>2</th>\n",
              "      <td>2022-03-01 09:00:00</td>\n",
              "      <td>03a2557a-aa12-4add-a6d4-77dc36342067</td>\n",
              "      <td>3</td>\n",
              "      <td>17.9700</td>\n",
              "    </tr>\n",
              "    <tr>\n",
              "      <th>3</th>\n",
              "      <td>2022-03-01 09:00:00</td>\n",
              "      <td>049b2171-0eeb-4a3e-bf98-0c290c7821da</td>\n",
              "      <td>7</td>\n",
              "      <td>8.7150</td>\n",
              "    </tr>\n",
              "    <tr>\n",
              "      <th>4</th>\n",
              "      <td>2022-03-01 09:00:00</td>\n",
              "      <td>04da844d-8dba-4470-9119-e534d52a03a0</td>\n",
              "      <td>11</td>\n",
              "      <td>1.3475</td>\n",
              "    </tr>\n",
              "  </tbody>\n",
              "</table>\n",
              "</div>"
            ],
            "text/plain": [
              "            timestamp                            product_id  quantity    total\n",
              "0 2022-03-01 09:00:00  00e120bb-89d6-4df5-bc48-a051148e3d03         3  33.5700\n",
              "1 2022-03-01 09:00:00  01f3cdd9-8e9e-4dff-9b5c-69698a0388d0         3   4.4700\n",
              "2 2022-03-01 09:00:00  03a2557a-aa12-4add-a6d4-77dc36342067         3  17.9700\n",
              "3 2022-03-01 09:00:00  049b2171-0eeb-4a3e-bf98-0c290c7821da         7   8.7150\n",
              "4 2022-03-01 09:00:00  04da844d-8dba-4470-9119-e534d52a03a0        11   1.3475"
            ]
          },
          "execution_count": 12,
          "metadata": {},
          "output_type": "execute_result"
        }
      ],
      "source": [
        "# Group by hour and product\n",
        "sales_agg = sales_df.groupby(['timestamp', 'product_id']).agg({'quantity': 'sum', 'total': 'mean'}).reset_index()\n",
        "stock_agg = stock_df.groupby(['timestamp', 'product_id']).agg({'estimated_stock_pct': 'mean'}).reset_index()\n",
        "temp_agg = temp_df.groupby(['timestamp']).agg({'temperature': 'mean'}).reset_index()\n",
        "sales_agg.head()"
      ]
    },
    {
      "cell_type": "code",
      "execution_count": 13,
      "metadata": {
        "colab": {
          "base_uri": "https://localhost:8080/",
          "height": 206
        },
        "id": "QMi9AItAOdfX",
        "outputId": "55ec8f57-e8a0-4244-aa66-9fe30402eb03"
      },
      "outputs": [
        {
          "data": {
            "text/html": [
              "<div>\n",
              "<style scoped>\n",
              "    .dataframe tbody tr th:only-of-type {\n",
              "        vertical-align: middle;\n",
              "    }\n",
              "\n",
              "    .dataframe tbody tr th {\n",
              "        vertical-align: top;\n",
              "    }\n",
              "\n",
              "    .dataframe thead th {\n",
              "        text-align: right;\n",
              "    }\n",
              "</style>\n",
              "<table border=\"1\" class=\"dataframe\">\n",
              "  <thead>\n",
              "    <tr style=\"text-align: right;\">\n",
              "      <th></th>\n",
              "      <th>timestamp</th>\n",
              "      <th>product_id</th>\n",
              "      <th>estimated_stock_pct</th>\n",
              "    </tr>\n",
              "  </thead>\n",
              "  <tbody>\n",
              "    <tr>\n",
              "      <th>0</th>\n",
              "      <td>2022-03-01 09:00:00</td>\n",
              "      <td>00e120bb-89d6-4df5-bc48-a051148e3d03</td>\n",
              "      <td>0.89</td>\n",
              "    </tr>\n",
              "    <tr>\n",
              "      <th>1</th>\n",
              "      <td>2022-03-01 09:00:00</td>\n",
              "      <td>01f3cdd9-8e9e-4dff-9b5c-69698a0388d0</td>\n",
              "      <td>0.14</td>\n",
              "    </tr>\n",
              "    <tr>\n",
              "      <th>2</th>\n",
              "      <td>2022-03-01 09:00:00</td>\n",
              "      <td>01ff0803-ae73-4234-971d-5713c97b7f4b</td>\n",
              "      <td>0.67</td>\n",
              "    </tr>\n",
              "    <tr>\n",
              "      <th>3</th>\n",
              "      <td>2022-03-01 09:00:00</td>\n",
              "      <td>0363eb21-8c74-47e1-a216-c37e565e5ceb</td>\n",
              "      <td>0.82</td>\n",
              "    </tr>\n",
              "    <tr>\n",
              "      <th>4</th>\n",
              "      <td>2022-03-01 09:00:00</td>\n",
              "      <td>03f0b20e-3b5b-444f-bc39-cdfa2523d4bc</td>\n",
              "      <td>0.05</td>\n",
              "    </tr>\n",
              "  </tbody>\n",
              "</table>\n",
              "</div>"
            ],
            "text/plain": [
              "            timestamp                            product_id  \\\n",
              "0 2022-03-01 09:00:00  00e120bb-89d6-4df5-bc48-a051148e3d03   \n",
              "1 2022-03-01 09:00:00  01f3cdd9-8e9e-4dff-9b5c-69698a0388d0   \n",
              "2 2022-03-01 09:00:00  01ff0803-ae73-4234-971d-5713c97b7f4b   \n",
              "3 2022-03-01 09:00:00  0363eb21-8c74-47e1-a216-c37e565e5ceb   \n",
              "4 2022-03-01 09:00:00  03f0b20e-3b5b-444f-bc39-cdfa2523d4bc   \n",
              "\n",
              "   estimated_stock_pct  \n",
              "0                 0.89  \n",
              "1                 0.14  \n",
              "2                 0.67  \n",
              "3                 0.82  \n",
              "4                 0.05  "
            ]
          },
          "execution_count": 13,
          "metadata": {},
          "output_type": "execute_result"
        }
      ],
      "source": [
        "stock_agg.head()"
      ]
    },
    {
      "cell_type": "code",
      "execution_count": 14,
      "metadata": {
        "colab": {
          "base_uri": "https://localhost:8080/",
          "height": 206
        },
        "id": "jO4_GrgdOlUl",
        "outputId": "43b0e27d-e1e1-4938-a2a7-d284054e41e8"
      },
      "outputs": [
        {
          "data": {
            "text/html": [
              "<div>\n",
              "<style scoped>\n",
              "    .dataframe tbody tr th:only-of-type {\n",
              "        vertical-align: middle;\n",
              "    }\n",
              "\n",
              "    .dataframe tbody tr th {\n",
              "        vertical-align: top;\n",
              "    }\n",
              "\n",
              "    .dataframe thead th {\n",
              "        text-align: right;\n",
              "    }\n",
              "</style>\n",
              "<table border=\"1\" class=\"dataframe\">\n",
              "  <thead>\n",
              "    <tr style=\"text-align: right;\">\n",
              "      <th></th>\n",
              "      <th>timestamp</th>\n",
              "      <th>temperature</th>\n",
              "    </tr>\n",
              "  </thead>\n",
              "  <tbody>\n",
              "    <tr>\n",
              "      <th>0</th>\n",
              "      <td>2022-03-01 09:00:00</td>\n",
              "      <td>-0.028850</td>\n",
              "    </tr>\n",
              "    <tr>\n",
              "      <th>1</th>\n",
              "      <td>2022-03-01 10:00:00</td>\n",
              "      <td>1.284314</td>\n",
              "    </tr>\n",
              "    <tr>\n",
              "      <th>2</th>\n",
              "      <td>2022-03-01 11:00:00</td>\n",
              "      <td>-0.560000</td>\n",
              "    </tr>\n",
              "    <tr>\n",
              "      <th>3</th>\n",
              "      <td>2022-03-01 12:00:00</td>\n",
              "      <td>-0.537721</td>\n",
              "    </tr>\n",
              "    <tr>\n",
              "      <th>4</th>\n",
              "      <td>2022-03-01 13:00:00</td>\n",
              "      <td>-0.188734</td>\n",
              "    </tr>\n",
              "  </tbody>\n",
              "</table>\n",
              "</div>"
            ],
            "text/plain": [
              "            timestamp  temperature\n",
              "0 2022-03-01 09:00:00    -0.028850\n",
              "1 2022-03-01 10:00:00     1.284314\n",
              "2 2022-03-01 11:00:00    -0.560000\n",
              "3 2022-03-01 12:00:00    -0.537721\n",
              "4 2022-03-01 13:00:00    -0.188734"
            ]
          },
          "execution_count": 14,
          "metadata": {},
          "output_type": "execute_result"
        }
      ],
      "source": [
        "temp_agg.head()"
      ]
    },
    {
      "cell_type": "code",
      "execution_count": 15,
      "metadata": {
        "colab": {
          "base_uri": "https://localhost:8080/"
        },
        "id": "gpqe1dgcT-Du",
        "outputId": "a0b36741-2729-4898-ef38-1258cbd865af"
      },
      "outputs": [
        {
          "name": "stdout",
          "output_type": "stream",
          "text": [
            "<class 'pandas.core.frame.DataFrame'>\n",
            "RangeIndex: 6217 entries, 0 to 6216\n",
            "Data columns (total 4 columns):\n",
            " #   Column      Non-Null Count  Dtype         \n",
            "---  ------      --------------  -----         \n",
            " 0   timestamp   6217 non-null   datetime64[ns]\n",
            " 1   product_id  6217 non-null   object        \n",
            " 2   quantity    6217 non-null   int64         \n",
            " 3   total       6217 non-null   float64       \n",
            "dtypes: datetime64[ns](1), float64(1), int64(1), object(1)\n",
            "memory usage: 194.4+ KB\n"
          ]
        }
      ],
      "source": [
        "sales_agg.info()"
      ]
    },
    {
      "cell_type": "code",
      "execution_count": 16,
      "metadata": {
        "colab": {
          "base_uri": "https://localhost:8080/"
        },
        "id": "XCMt3oycUCOp",
        "outputId": "c99d05ed-7fe0-41e3-b750-c3324936a245"
      },
      "outputs": [
        {
          "name": "stdout",
          "output_type": "stream",
          "text": [
            "<class 'pandas.core.frame.DataFrame'>\n",
            "RangeIndex: 10845 entries, 0 to 10844\n",
            "Data columns (total 3 columns):\n",
            " #   Column               Non-Null Count  Dtype         \n",
            "---  ------               --------------  -----         \n",
            " 0   timestamp            10845 non-null  datetime64[ns]\n",
            " 1   product_id           10845 non-null  object        \n",
            " 2   estimated_stock_pct  10845 non-null  float64       \n",
            "dtypes: datetime64[ns](1), float64(1), object(1)\n",
            "memory usage: 254.3+ KB\n"
          ]
        }
      ],
      "source": [
        "stock_agg.info()"
      ]
    },
    {
      "cell_type": "code",
      "execution_count": 17,
      "metadata": {
        "colab": {
          "base_uri": "https://localhost:8080/"
        },
        "id": "pL54Sk5DSwG3",
        "outputId": "6a6f5f3c-69ce-4e4e-a724-0abdf7aeb8a0"
      },
      "outputs": [
        {
          "name": "stdout",
          "output_type": "stream",
          "text": [
            "<class 'pandas.core.frame.DataFrame'>\n",
            "RangeIndex: 77 entries, 0 to 76\n",
            "Data columns (total 2 columns):\n",
            " #   Column       Non-Null Count  Dtype         \n",
            "---  ------       --------------  -----         \n",
            " 0   timestamp    77 non-null     datetime64[ns]\n",
            " 1   temperature  77 non-null     float64       \n",
            "dtypes: datetime64[ns](1), float64(1)\n",
            "memory usage: 1.3 KB\n"
          ]
        }
      ],
      "source": [
        "temp_agg.info()"
      ]
    },
    {
      "cell_type": "code",
      "execution_count": 18,
      "metadata": {
        "colab": {
          "base_uri": "https://localhost:8080/",
          "height": 206
        },
        "id": "8nLXUuI8ZxN3",
        "outputId": "96d524ef-2c17-4366-d794-2bd83f7c72a3"
      },
      "outputs": [
        {
          "data": {
            "text/html": [
              "<div>\n",
              "<style scoped>\n",
              "    .dataframe tbody tr th:only-of-type {\n",
              "        vertical-align: middle;\n",
              "    }\n",
              "\n",
              "    .dataframe tbody tr th {\n",
              "        vertical-align: top;\n",
              "    }\n",
              "\n",
              "    .dataframe thead th {\n",
              "        text-align: right;\n",
              "    }\n",
              "</style>\n",
              "<table border=\"1\" class=\"dataframe\">\n",
              "  <thead>\n",
              "    <tr style=\"text-align: right;\">\n",
              "      <th></th>\n",
              "      <th>timestamp</th>\n",
              "      <th>product_id</th>\n",
              "      <th>estimated_stock_pct</th>\n",
              "      <th>quantity</th>\n",
              "      <th>total</th>\n",
              "      <th>temperature</th>\n",
              "    </tr>\n",
              "  </thead>\n",
              "  <tbody>\n",
              "    <tr>\n",
              "      <th>0</th>\n",
              "      <td>2022-03-01 09:00:00</td>\n",
              "      <td>00e120bb-89d6-4df5-bc48-a051148e3d03</td>\n",
              "      <td>0.89</td>\n",
              "      <td>3.0</td>\n",
              "      <td>33.57</td>\n",
              "      <td>-0.02885</td>\n",
              "    </tr>\n",
              "    <tr>\n",
              "      <th>1</th>\n",
              "      <td>2022-03-01 09:00:00</td>\n",
              "      <td>01f3cdd9-8e9e-4dff-9b5c-69698a0388d0</td>\n",
              "      <td>0.14</td>\n",
              "      <td>3.0</td>\n",
              "      <td>4.47</td>\n",
              "      <td>-0.02885</td>\n",
              "    </tr>\n",
              "    <tr>\n",
              "      <th>2</th>\n",
              "      <td>2022-03-01 09:00:00</td>\n",
              "      <td>01ff0803-ae73-4234-971d-5713c97b7f4b</td>\n",
              "      <td>0.67</td>\n",
              "      <td>NaN</td>\n",
              "      <td>NaN</td>\n",
              "      <td>-0.02885</td>\n",
              "    </tr>\n",
              "    <tr>\n",
              "      <th>3</th>\n",
              "      <td>2022-03-01 09:00:00</td>\n",
              "      <td>0363eb21-8c74-47e1-a216-c37e565e5ceb</td>\n",
              "      <td>0.82</td>\n",
              "      <td>NaN</td>\n",
              "      <td>NaN</td>\n",
              "      <td>-0.02885</td>\n",
              "    </tr>\n",
              "    <tr>\n",
              "      <th>4</th>\n",
              "      <td>2022-03-01 09:00:00</td>\n",
              "      <td>03f0b20e-3b5b-444f-bc39-cdfa2523d4bc</td>\n",
              "      <td>0.05</td>\n",
              "      <td>NaN</td>\n",
              "      <td>NaN</td>\n",
              "      <td>-0.02885</td>\n",
              "    </tr>\n",
              "  </tbody>\n",
              "</table>\n",
              "</div>"
            ],
            "text/plain": [
              "            timestamp                            product_id  \\\n",
              "0 2022-03-01 09:00:00  00e120bb-89d6-4df5-bc48-a051148e3d03   \n",
              "1 2022-03-01 09:00:00  01f3cdd9-8e9e-4dff-9b5c-69698a0388d0   \n",
              "2 2022-03-01 09:00:00  01ff0803-ae73-4234-971d-5713c97b7f4b   \n",
              "3 2022-03-01 09:00:00  0363eb21-8c74-47e1-a216-c37e565e5ceb   \n",
              "4 2022-03-01 09:00:00  03f0b20e-3b5b-444f-bc39-cdfa2523d4bc   \n",
              "\n",
              "   estimated_stock_pct  quantity  total  temperature  \n",
              "0                 0.89       3.0  33.57     -0.02885  \n",
              "1                 0.14       3.0   4.47     -0.02885  \n",
              "2                 0.67       NaN    NaN     -0.02885  \n",
              "3                 0.82       NaN    NaN     -0.02885  \n",
              "4                 0.05       NaN    NaN     -0.02885  "
            ]
          },
          "execution_count": 18,
          "metadata": {},
          "output_type": "execute_result"
        }
      ],
      "source": [
        "merged_df = stock_agg.merge(sales_agg, on=['timestamp', 'product_id'], how='left') \\\n",
        "       .merge(temp_agg, on='timestamp', how='left')\n",
        "merged_df.head()"
      ]
    },
    {
      "cell_type": "code",
      "execution_count": 19,
      "metadata": {
        "colab": {
          "base_uri": "https://localhost:8080/"
        },
        "id": "m1geDzlePbU4",
        "outputId": "a501969f-9e51-49e3-81fd-bee07aa08c0d"
      },
      "outputs": [
        {
          "name": "stdout",
          "output_type": "stream",
          "text": [
            "<class 'pandas.core.frame.DataFrame'>\n",
            "Int64Index: 10845 entries, 0 to 10844\n",
            "Data columns (total 6 columns):\n",
            " #   Column               Non-Null Count  Dtype         \n",
            "---  ------               --------------  -----         \n",
            " 0   timestamp            10845 non-null  datetime64[ns]\n",
            " 1   product_id           10845 non-null  object        \n",
            " 2   estimated_stock_pct  10845 non-null  float64       \n",
            " 3   quantity             3067 non-null   float64       \n",
            " 4   total                3067 non-null   float64       \n",
            " 5   temperature          10845 non-null  float64       \n",
            "dtypes: datetime64[ns](1), float64(4), object(1)\n",
            "memory usage: 593.1+ KB\n"
          ]
        }
      ],
      "source": [
        "merged_df.info()"
      ]
    },
    {
      "cell_type": "code",
      "execution_count": 20,
      "metadata": {
        "colab": {
          "base_uri": "https://localhost:8080/"
        },
        "id": "MVGlExcDbZBq",
        "outputId": "2ddb4df6-c140-400e-e23e-e4d40d57ec30"
      },
      "outputs": [
        {
          "name": "stderr",
          "output_type": "stream",
          "text": [
            "C:\\Users\\saulc\\AppData\\Local\\Temp\\ipykernel_13736\\2296031605.py:3: SettingWithCopyWarning: \n",
            "A value is trying to be set on a copy of a slice from a DataFrame\n",
            "\n",
            "See the caveats in the documentation: https://pandas.pydata.org/pandas-docs/stable/user_guide/indexing.html#returning-a-view-versus-a-copy\n",
            "  category_feats.drop_duplicates(inplace=True)\n",
            "C:\\Users\\saulc\\AppData\\Local\\Temp\\ipykernel_13736\\2296031605.py:6: SettingWithCopyWarning: \n",
            "A value is trying to be set on a copy of a slice from a DataFrame\n",
            "\n",
            "See the caveats in the documentation: https://pandas.pydata.org/pandas-docs/stable/user_guide/indexing.html#returning-a-view-versus-a-copy\n",
            "  product_price.drop_duplicates(inplace=True)\n"
          ]
        }
      ],
      "source": [
        "# Add rest of product features\n",
        "category_feats = sales_df[['product_id', 'category']]\n",
        "category_feats.drop_duplicates(inplace=True)\n",
        "\n",
        "product_price = sales_df[['product_id', 'unit_price']]\n",
        "product_price.drop_duplicates(inplace=True)"
      ]
    },
    {
      "cell_type": "code",
      "execution_count": 21,
      "metadata": {
        "colab": {
          "base_uri": "https://localhost:8080/",
          "height": 206
        },
        "id": "itWfldSsU-DJ",
        "outputId": "c875c85f-4e26-49d4-d443-499f14113c4d"
      },
      "outputs": [
        {
          "data": {
            "text/html": [
              "<div>\n",
              "<style scoped>\n",
              "    .dataframe tbody tr th:only-of-type {\n",
              "        vertical-align: middle;\n",
              "    }\n",
              "\n",
              "    .dataframe tbody tr th {\n",
              "        vertical-align: top;\n",
              "    }\n",
              "\n",
              "    .dataframe thead th {\n",
              "        text-align: right;\n",
              "    }\n",
              "</style>\n",
              "<table border=\"1\" class=\"dataframe\">\n",
              "  <thead>\n",
              "    <tr style=\"text-align: right;\">\n",
              "      <th></th>\n",
              "      <th>timestamp</th>\n",
              "      <th>product_id</th>\n",
              "      <th>estimated_stock_pct</th>\n",
              "      <th>quantity</th>\n",
              "      <th>total</th>\n",
              "      <th>temperature</th>\n",
              "      <th>category</th>\n",
              "      <th>unit_price</th>\n",
              "    </tr>\n",
              "  </thead>\n",
              "  <tbody>\n",
              "    <tr>\n",
              "      <th>0</th>\n",
              "      <td>2022-03-01 09:00:00</td>\n",
              "      <td>00e120bb-89d6-4df5-bc48-a051148e3d03</td>\n",
              "      <td>0.89</td>\n",
              "      <td>3.0</td>\n",
              "      <td>33.57</td>\n",
              "      <td>-0.02885</td>\n",
              "      <td>kitchen</td>\n",
              "      <td>11.19</td>\n",
              "    </tr>\n",
              "    <tr>\n",
              "      <th>1</th>\n",
              "      <td>2022-03-01 09:00:00</td>\n",
              "      <td>01f3cdd9-8e9e-4dff-9b5c-69698a0388d0</td>\n",
              "      <td>0.14</td>\n",
              "      <td>3.0</td>\n",
              "      <td>4.47</td>\n",
              "      <td>-0.02885</td>\n",
              "      <td>vegetables</td>\n",
              "      <td>1.49</td>\n",
              "    </tr>\n",
              "    <tr>\n",
              "      <th>2</th>\n",
              "      <td>2022-03-01 09:00:00</td>\n",
              "      <td>01ff0803-ae73-4234-971d-5713c97b7f4b</td>\n",
              "      <td>0.67</td>\n",
              "      <td>NaN</td>\n",
              "      <td>NaN</td>\n",
              "      <td>-0.02885</td>\n",
              "      <td>baby products</td>\n",
              "      <td>14.19</td>\n",
              "    </tr>\n",
              "    <tr>\n",
              "      <th>3</th>\n",
              "      <td>2022-03-01 09:00:00</td>\n",
              "      <td>0363eb21-8c74-47e1-a216-c37e565e5ceb</td>\n",
              "      <td>0.82</td>\n",
              "      <td>NaN</td>\n",
              "      <td>NaN</td>\n",
              "      <td>-0.02885</td>\n",
              "      <td>beverages</td>\n",
              "      <td>20.19</td>\n",
              "    </tr>\n",
              "    <tr>\n",
              "      <th>4</th>\n",
              "      <td>2022-03-01 09:00:00</td>\n",
              "      <td>03f0b20e-3b5b-444f-bc39-cdfa2523d4bc</td>\n",
              "      <td>0.05</td>\n",
              "      <td>NaN</td>\n",
              "      <td>NaN</td>\n",
              "      <td>-0.02885</td>\n",
              "      <td>pets</td>\n",
              "      <td>8.19</td>\n",
              "    </tr>\n",
              "  </tbody>\n",
              "</table>\n",
              "</div>"
            ],
            "text/plain": [
              "            timestamp                            product_id  \\\n",
              "0 2022-03-01 09:00:00  00e120bb-89d6-4df5-bc48-a051148e3d03   \n",
              "1 2022-03-01 09:00:00  01f3cdd9-8e9e-4dff-9b5c-69698a0388d0   \n",
              "2 2022-03-01 09:00:00  01ff0803-ae73-4234-971d-5713c97b7f4b   \n",
              "3 2022-03-01 09:00:00  0363eb21-8c74-47e1-a216-c37e565e5ceb   \n",
              "4 2022-03-01 09:00:00  03f0b20e-3b5b-444f-bc39-cdfa2523d4bc   \n",
              "\n",
              "   estimated_stock_pct  quantity  total  temperature       category  \\\n",
              "0                 0.89       3.0  33.57     -0.02885        kitchen   \n",
              "1                 0.14       3.0   4.47     -0.02885     vegetables   \n",
              "2                 0.67       NaN    NaN     -0.02885  baby products   \n",
              "3                 0.82       NaN    NaN     -0.02885      beverages   \n",
              "4                 0.05       NaN    NaN     -0.02885           pets   \n",
              "\n",
              "   unit_price  \n",
              "0       11.19  \n",
              "1        1.49  \n",
              "2       14.19  \n",
              "3       20.19  \n",
              "4        8.19  "
            ]
          },
          "execution_count": 21,
          "metadata": {},
          "output_type": "execute_result"
        }
      ],
      "source": [
        "# Merge onto main df\n",
        "merged_df = merged_df.merge(category_feats, on='product_id', how='left') \\\n",
        "            .merge(product_price, on='product_id', how='left')\n",
        "merged_df.head()"
      ]
    },
    {
      "cell_type": "code",
      "execution_count": 22,
      "metadata": {
        "colab": {
          "base_uri": "https://localhost:8080/"
        },
        "id": "XvPOiZtEVkED",
        "outputId": "a251d187-49fe-43ce-e095-cb7af0bdf564"
      },
      "outputs": [
        {
          "name": "stdout",
          "output_type": "stream",
          "text": [
            "<class 'pandas.core.frame.DataFrame'>\n",
            "Int64Index: 10845 entries, 0 to 10844\n",
            "Data columns (total 8 columns):\n",
            " #   Column               Non-Null Count  Dtype         \n",
            "---  ------               --------------  -----         \n",
            " 0   timestamp            10845 non-null  datetime64[ns]\n",
            " 1   product_id           10845 non-null  object        \n",
            " 2   estimated_stock_pct  10845 non-null  float64       \n",
            " 3   quantity             3067 non-null   float64       \n",
            " 4   total                3067 non-null   float64       \n",
            " 5   temperature          10845 non-null  float64       \n",
            " 6   category             10845 non-null  object        \n",
            " 7   unit_price           10845 non-null  float64       \n",
            "dtypes: datetime64[ns](1), float64(5), object(2)\n",
            "memory usage: 762.5+ KB\n"
          ]
        }
      ],
      "source": [
        "merged_df.info()"
      ]
    },
    {
      "cell_type": "code",
      "execution_count": 23,
      "metadata": {
        "colab": {
          "base_uri": "https://localhost:8080/"
        },
        "id": "klu3HN39f_GP",
        "outputId": "bad9c0d2-535b-4698-ddad-977944db8a46"
      },
      "outputs": [
        {
          "name": "stdout",
          "output_type": "stream",
          "text": [
            "<class 'pandas.core.frame.DataFrame'>\n",
            "Int64Index: 10845 entries, 0 to 10844\n",
            "Data columns (total 8 columns):\n",
            " #   Column               Non-Null Count  Dtype         \n",
            "---  ------               --------------  -----         \n",
            " 0   timestamp            10845 non-null  datetime64[ns]\n",
            " 1   product_id           10845 non-null  object        \n",
            " 2   estimated_stock_pct  10845 non-null  float64       \n",
            " 3   quantity             3067 non-null   float64       \n",
            " 4   total                3067 non-null   float64       \n",
            " 5   temperature          10845 non-null  float64       \n",
            " 6   category             10845 non-null  category      \n",
            " 7   unit_price           10845 non-null  float64       \n",
            "dtypes: category(1), datetime64[ns](1), float64(5), object(1)\n",
            "memory usage: 689.1+ KB\n"
          ]
        }
      ],
      "source": [
        "# Convert object types to categorical\n",
        "merged_df['category'] = merged_df['category'].astype('category')\n",
        "merged_df.info()"
      ]
    },
    {
      "cell_type": "code",
      "execution_count": 24,
      "metadata": {
        "id": "THCaIS5IfC9Z"
      },
      "outputs": [],
      "source": [
        "# Fill NaN\n",
        "merged_df.quantity.fillna(0, inplace=True)\n",
        "merged_df.total.fillna(0, inplace=True)"
      ]
    },
    {
      "cell_type": "markdown",
      "metadata": {
        "id": "lHaZfeJgklZN"
      },
      "source": [
        "## Feature Engineering"
      ]
    },
    {
      "cell_type": "code",
      "execution_count": 25,
      "metadata": {
        "colab": {
          "base_uri": "https://localhost:8080/",
          "height": 206
        },
        "id": "6utSXUZMksxc",
        "outputId": "2bbee293-32a7-4426-80aa-ad8aeebcb3e4"
      },
      "outputs": [
        {
          "data": {
            "text/html": [
              "<div>\n",
              "<style scoped>\n",
              "    .dataframe tbody tr th:only-of-type {\n",
              "        vertical-align: middle;\n",
              "    }\n",
              "\n",
              "    .dataframe tbody tr th {\n",
              "        vertical-align: top;\n",
              "    }\n",
              "\n",
              "    .dataframe thead th {\n",
              "        text-align: right;\n",
              "    }\n",
              "</style>\n",
              "<table border=\"1\" class=\"dataframe\">\n",
              "  <thead>\n",
              "    <tr style=\"text-align: right;\">\n",
              "      <th></th>\n",
              "      <th>estimated_stock_pct</th>\n",
              "      <th>quantity</th>\n",
              "      <th>total</th>\n",
              "      <th>temperature</th>\n",
              "      <th>unit_price</th>\n",
              "    </tr>\n",
              "  </thead>\n",
              "  <tbody>\n",
              "    <tr>\n",
              "      <th>estimated_stock_pct</th>\n",
              "      <td>1.000000</td>\n",
              "      <td>0.012929</td>\n",
              "      <td>0.004200</td>\n",
              "      <td>0.007955</td>\n",
              "      <td>-0.024479</td>\n",
              "    </tr>\n",
              "    <tr>\n",
              "      <th>quantity</th>\n",
              "      <td>0.012929</td>\n",
              "      <td>1.000000</td>\n",
              "      <td>0.658054</td>\n",
              "      <td>-0.017771</td>\n",
              "      <td>-0.108101</td>\n",
              "    </tr>\n",
              "    <tr>\n",
              "      <th>total</th>\n",
              "      <td>0.004200</td>\n",
              "      <td>0.658054</td>\n",
              "      <td>1.000000</td>\n",
              "      <td>-0.017438</td>\n",
              "      <td>0.245598</td>\n",
              "    </tr>\n",
              "    <tr>\n",
              "      <th>temperature</th>\n",
              "      <td>0.007955</td>\n",
              "      <td>-0.017771</td>\n",
              "      <td>-0.017438</td>\n",
              "      <td>1.000000</td>\n",
              "      <td>0.002874</td>\n",
              "    </tr>\n",
              "    <tr>\n",
              "      <th>unit_price</th>\n",
              "      <td>-0.024479</td>\n",
              "      <td>-0.108101</td>\n",
              "      <td>0.245598</td>\n",
              "      <td>0.002874</td>\n",
              "      <td>1.000000</td>\n",
              "    </tr>\n",
              "  </tbody>\n",
              "</table>\n",
              "</div>"
            ],
            "text/plain": [
              "                     estimated_stock_pct  quantity     total  temperature  \\\n",
              "estimated_stock_pct             1.000000  0.012929  0.004200     0.007955   \n",
              "quantity                        0.012929  1.000000  0.658054    -0.017771   \n",
              "total                           0.004200  0.658054  1.000000    -0.017438   \n",
              "temperature                     0.007955 -0.017771 -0.017438     1.000000   \n",
              "unit_price                     -0.024479 -0.108101  0.245598     0.002874   \n",
              "\n",
              "                     unit_price  \n",
              "estimated_stock_pct   -0.024479  \n",
              "quantity              -0.108101  \n",
              "total                  0.245598  \n",
              "temperature            0.002874  \n",
              "unit_price             1.000000  "
            ]
          },
          "execution_count": 25,
          "metadata": {},
          "output_type": "execute_result"
        }
      ],
      "source": [
        "merged_df.corr()"
      ]
    },
    {
      "cell_type": "code",
      "execution_count": 26,
      "metadata": {
        "colab": {
          "base_uri": "https://localhost:8080/",
          "height": 424
        },
        "id": "fztn_AYOhpEU",
        "outputId": "db4c38ad-bb93-4ab3-c9bf-896711cf1956"
      },
      "outputs": [
        {
          "data": {
            "text/html": [
              "<div>\n",
              "<style scoped>\n",
              "    .dataframe tbody tr th:only-of-type {\n",
              "        vertical-align: middle;\n",
              "    }\n",
              "\n",
              "    .dataframe tbody tr th {\n",
              "        vertical-align: top;\n",
              "    }\n",
              "\n",
              "    .dataframe thead th {\n",
              "        text-align: right;\n",
              "    }\n",
              "</style>\n",
              "<table border=\"1\" class=\"dataframe\">\n",
              "  <thead>\n",
              "    <tr style=\"text-align: right;\">\n",
              "      <th></th>\n",
              "      <th>estimated_stock_pct</th>\n",
              "      <th>quantity</th>\n",
              "      <th>total</th>\n",
              "      <th>temperature</th>\n",
              "      <th>category</th>\n",
              "      <th>unit_price</th>\n",
              "      <th>month</th>\n",
              "      <th>day</th>\n",
              "      <th>day_of_week</th>\n",
              "      <th>hour</th>\n",
              "    </tr>\n",
              "  </thead>\n",
              "  <tbody>\n",
              "    <tr>\n",
              "      <th>0</th>\n",
              "      <td>0.89</td>\n",
              "      <td>3.0</td>\n",
              "      <td>33.57</td>\n",
              "      <td>-0.028850</td>\n",
              "      <td>kitchen</td>\n",
              "      <td>11.19</td>\n",
              "      <td>3</td>\n",
              "      <td>1</td>\n",
              "      <td>1</td>\n",
              "      <td>9</td>\n",
              "    </tr>\n",
              "    <tr>\n",
              "      <th>1</th>\n",
              "      <td>0.14</td>\n",
              "      <td>3.0</td>\n",
              "      <td>4.47</td>\n",
              "      <td>-0.028850</td>\n",
              "      <td>vegetables</td>\n",
              "      <td>1.49</td>\n",
              "      <td>3</td>\n",
              "      <td>1</td>\n",
              "      <td>1</td>\n",
              "      <td>9</td>\n",
              "    </tr>\n",
              "    <tr>\n",
              "      <th>2</th>\n",
              "      <td>0.67</td>\n",
              "      <td>0.0</td>\n",
              "      <td>0.00</td>\n",
              "      <td>-0.028850</td>\n",
              "      <td>baby products</td>\n",
              "      <td>14.19</td>\n",
              "      <td>3</td>\n",
              "      <td>1</td>\n",
              "      <td>1</td>\n",
              "      <td>9</td>\n",
              "    </tr>\n",
              "    <tr>\n",
              "      <th>3</th>\n",
              "      <td>0.82</td>\n",
              "      <td>0.0</td>\n",
              "      <td>0.00</td>\n",
              "      <td>-0.028850</td>\n",
              "      <td>beverages</td>\n",
              "      <td>20.19</td>\n",
              "      <td>3</td>\n",
              "      <td>1</td>\n",
              "      <td>1</td>\n",
              "      <td>9</td>\n",
              "    </tr>\n",
              "    <tr>\n",
              "      <th>4</th>\n",
              "      <td>0.05</td>\n",
              "      <td>0.0</td>\n",
              "      <td>0.00</td>\n",
              "      <td>-0.028850</td>\n",
              "      <td>pets</td>\n",
              "      <td>8.19</td>\n",
              "      <td>3</td>\n",
              "      <td>1</td>\n",
              "      <td>1</td>\n",
              "      <td>9</td>\n",
              "    </tr>\n",
              "    <tr>\n",
              "      <th>...</th>\n",
              "      <td>...</td>\n",
              "      <td>...</td>\n",
              "      <td>...</td>\n",
              "      <td>...</td>\n",
              "      <td>...</td>\n",
              "      <td>...</td>\n",
              "      <td>...</td>\n",
              "      <td>...</td>\n",
              "      <td>...</td>\n",
              "      <td>...</td>\n",
              "    </tr>\n",
              "    <tr>\n",
              "      <th>10840</th>\n",
              "      <td>0.50</td>\n",
              "      <td>4.0</td>\n",
              "      <td>19.96</td>\n",
              "      <td>-0.165077</td>\n",
              "      <td>fruit</td>\n",
              "      <td>4.99</td>\n",
              "      <td>3</td>\n",
              "      <td>7</td>\n",
              "      <td>0</td>\n",
              "      <td>19</td>\n",
              "    </tr>\n",
              "    <tr>\n",
              "      <th>10841</th>\n",
              "      <td>0.26</td>\n",
              "      <td>0.0</td>\n",
              "      <td>0.00</td>\n",
              "      <td>-0.165077</td>\n",
              "      <td>meat</td>\n",
              "      <td>19.99</td>\n",
              "      <td>3</td>\n",
              "      <td>7</td>\n",
              "      <td>0</td>\n",
              "      <td>19</td>\n",
              "    </tr>\n",
              "    <tr>\n",
              "      <th>10842</th>\n",
              "      <td>0.78</td>\n",
              "      <td>3.0</td>\n",
              "      <td>20.97</td>\n",
              "      <td>-0.165077</td>\n",
              "      <td>packaged foods</td>\n",
              "      <td>6.99</td>\n",
              "      <td>3</td>\n",
              "      <td>7</td>\n",
              "      <td>0</td>\n",
              "      <td>19</td>\n",
              "    </tr>\n",
              "    <tr>\n",
              "      <th>10843</th>\n",
              "      <td>0.92</td>\n",
              "      <td>3.0</td>\n",
              "      <td>44.97</td>\n",
              "      <td>-0.165077</td>\n",
              "      <td>meat</td>\n",
              "      <td>14.99</td>\n",
              "      <td>3</td>\n",
              "      <td>7</td>\n",
              "      <td>0</td>\n",
              "      <td>19</td>\n",
              "    </tr>\n",
              "    <tr>\n",
              "      <th>10844</th>\n",
              "      <td>0.01</td>\n",
              "      <td>2.0</td>\n",
              "      <td>10.38</td>\n",
              "      <td>-0.165077</td>\n",
              "      <td>beverages</td>\n",
              "      <td>5.19</td>\n",
              "      <td>3</td>\n",
              "      <td>7</td>\n",
              "      <td>0</td>\n",
              "      <td>19</td>\n",
              "    </tr>\n",
              "  </tbody>\n",
              "</table>\n",
              "<p>10845 rows × 10 columns</p>\n",
              "</div>"
            ],
            "text/plain": [
              "       estimated_stock_pct  quantity  total  temperature        category  \\\n",
              "0                     0.89       3.0  33.57    -0.028850         kitchen   \n",
              "1                     0.14       3.0   4.47    -0.028850      vegetables   \n",
              "2                     0.67       0.0   0.00    -0.028850   baby products   \n",
              "3                     0.82       0.0   0.00    -0.028850       beverages   \n",
              "4                     0.05       0.0   0.00    -0.028850            pets   \n",
              "...                    ...       ...    ...          ...             ...   \n",
              "10840                 0.50       4.0  19.96    -0.165077           fruit   \n",
              "10841                 0.26       0.0   0.00    -0.165077            meat   \n",
              "10842                 0.78       3.0  20.97    -0.165077  packaged foods   \n",
              "10843                 0.92       3.0  44.97    -0.165077            meat   \n",
              "10844                 0.01       2.0  10.38    -0.165077       beverages   \n",
              "\n",
              "       unit_price  month  day  day_of_week  hour  \n",
              "0           11.19      3    1            1     9  \n",
              "1            1.49      3    1            1     9  \n",
              "2           14.19      3    1            1     9  \n",
              "3           20.19      3    1            1     9  \n",
              "4            8.19      3    1            1     9  \n",
              "...           ...    ...  ...          ...   ...  \n",
              "10840        4.99      3    7            0    19  \n",
              "10841       19.99      3    7            0    19  \n",
              "10842        6.99      3    7            0    19  \n",
              "10843       14.99      3    7            0    19  \n",
              "10844        5.19      3    7            0    19  \n",
              "\n",
              "[10845 rows x 10 columns]"
            ]
          },
          "execution_count": 26,
          "metadata": {},
          "output_type": "execute_result"
        }
      ],
      "source": [
        "# Extract date features\n",
        "merged_df['month'] = merged_df.timestamp.dt.month\n",
        "merged_df['day'] = merged_df.timestamp.dt.day\n",
        "merged_df['day_of_week'] = merged_df.timestamp.dt.dayofweek\n",
        "merged_df['hour'] = merged_df.timestamp.dt.hour\n",
        "\n",
        "merged_df.drop(['timestamp', 'product_id'], axis=1, inplace=True)\n",
        "merged_df"
      ]
    },
    {
      "cell_type": "markdown",
      "metadata": {
        "id": "B134Rw7clXO7"
      },
      "source": [
        "## Model Building"
      ]
    },
    {
      "cell_type": "code",
      "execution_count": 27,
      "metadata": {
        "colab": {
          "base_uri": "https://localhost:8080/"
        },
        "id": "sPwANNVNj6Ep",
        "outputId": "d5c474c5-9398-44b0-c7c8-7d525c05a007"
      },
      "outputs": [
        {
          "name": "stdout",
          "output_type": "stream",
          "text": [
            "(10845, 9)\n",
            "(10845,)\n"
          ]
        }
      ],
      "source": [
        "# Split data\n",
        "X = merged_df.drop('estimated_stock_pct', axis=1)\n",
        "y = merged_df['estimated_stock_pct']\n",
        "print(X.shape)\n",
        "print(y.shape)"
      ]
    },
    {
      "cell_type": "code",
      "execution_count": 28,
      "metadata": {
        "colab": {
          "base_uri": "https://localhost:8080/",
          "height": 424
        },
        "id": "05dYGlt2n2il",
        "outputId": "57f30e9f-40d4-4c4a-ac42-be819d85035a"
      },
      "outputs": [
        {
          "data": {
            "text/html": [
              "<div>\n",
              "<style scoped>\n",
              "    .dataframe tbody tr th:only-of-type {\n",
              "        vertical-align: middle;\n",
              "    }\n",
              "\n",
              "    .dataframe tbody tr th {\n",
              "        vertical-align: top;\n",
              "    }\n",
              "\n",
              "    .dataframe thead th {\n",
              "        text-align: right;\n",
              "    }\n",
              "</style>\n",
              "<table border=\"1\" class=\"dataframe\">\n",
              "  <thead>\n",
              "    <tr style=\"text-align: right;\">\n",
              "      <th></th>\n",
              "      <th>quantity</th>\n",
              "      <th>total</th>\n",
              "      <th>temperature</th>\n",
              "      <th>category</th>\n",
              "      <th>unit_price</th>\n",
              "      <th>month</th>\n",
              "      <th>day</th>\n",
              "      <th>day_of_week</th>\n",
              "      <th>hour</th>\n",
              "    </tr>\n",
              "  </thead>\n",
              "  <tbody>\n",
              "    <tr>\n",
              "      <th>6641</th>\n",
              "      <td>0.0</td>\n",
              "      <td>0.0</td>\n",
              "      <td>0.160429</td>\n",
              "      <td>kitchen</td>\n",
              "      <td>19.19</td>\n",
              "      <td>3</td>\n",
              "      <td>5</td>\n",
              "      <td>5</td>\n",
              "      <td>12</td>\n",
              "    </tr>\n",
              "    <tr>\n",
              "      <th>10739</th>\n",
              "      <td>0.0</td>\n",
              "      <td>0.0</td>\n",
              "      <td>-0.165077</td>\n",
              "      <td>personal care</td>\n",
              "      <td>3.49</td>\n",
              "      <td>3</td>\n",
              "      <td>7</td>\n",
              "      <td>0</td>\n",
              "      <td>19</td>\n",
              "    </tr>\n",
              "    <tr>\n",
              "      <th>32</th>\n",
              "      <td>0.0</td>\n",
              "      <td>0.0</td>\n",
              "      <td>-0.028850</td>\n",
              "      <td>snacks</td>\n",
              "      <td>1.99</td>\n",
              "      <td>3</td>\n",
              "      <td>1</td>\n",
              "      <td>1</td>\n",
              "      <td>9</td>\n",
              "    </tr>\n",
              "    <tr>\n",
              "      <th>6793</th>\n",
              "      <td>0.0</td>\n",
              "      <td>0.0</td>\n",
              "      <td>0.671020</td>\n",
              "      <td>packaged foods</td>\n",
              "      <td>7.19</td>\n",
              "      <td>3</td>\n",
              "      <td>5</td>\n",
              "      <td>5</td>\n",
              "      <td>13</td>\n",
              "    </tr>\n",
              "    <tr>\n",
              "      <th>10482</th>\n",
              "      <td>0.0</td>\n",
              "      <td>0.0</td>\n",
              "      <td>-0.003988</td>\n",
              "      <td>spices and herbs</td>\n",
              "      <td>2.19</td>\n",
              "      <td>3</td>\n",
              "      <td>7</td>\n",
              "      <td>0</td>\n",
              "      <td>17</td>\n",
              "    </tr>\n",
              "    <tr>\n",
              "      <th>...</th>\n",
              "      <td>...</td>\n",
              "      <td>...</td>\n",
              "      <td>...</td>\n",
              "      <td>...</td>\n",
              "      <td>...</td>\n",
              "      <td>...</td>\n",
              "      <td>...</td>\n",
              "      <td>...</td>\n",
              "      <td>...</td>\n",
              "    </tr>\n",
              "    <tr>\n",
              "      <th>919</th>\n",
              "      <td>0.0</td>\n",
              "      <td>0.0</td>\n",
              "      <td>0.337059</td>\n",
              "      <td>medicine</td>\n",
              "      <td>12.99</td>\n",
              "      <td>3</td>\n",
              "      <td>1</td>\n",
              "      <td>1</td>\n",
              "      <td>15</td>\n",
              "    </tr>\n",
              "    <tr>\n",
              "      <th>8710</th>\n",
              "      <td>0.0</td>\n",
              "      <td>0.0</td>\n",
              "      <td>-0.827895</td>\n",
              "      <td>spices and herbs</td>\n",
              "      <td>0.19</td>\n",
              "      <td>3</td>\n",
              "      <td>6</td>\n",
              "      <td>6</td>\n",
              "      <td>15</td>\n",
              "    </tr>\n",
              "    <tr>\n",
              "      <th>10798</th>\n",
              "      <td>0.0</td>\n",
              "      <td>0.0</td>\n",
              "      <td>-0.165077</td>\n",
              "      <td>canned foods</td>\n",
              "      <td>7.49</td>\n",
              "      <td>3</td>\n",
              "      <td>7</td>\n",
              "      <td>0</td>\n",
              "      <td>19</td>\n",
              "    </tr>\n",
              "    <tr>\n",
              "      <th>3606</th>\n",
              "      <td>0.0</td>\n",
              "      <td>0.0</td>\n",
              "      <td>0.982000</td>\n",
              "      <td>baby products</td>\n",
              "      <td>15.99</td>\n",
              "      <td>3</td>\n",
              "      <td>3</td>\n",
              "      <td>3</td>\n",
              "      <td>12</td>\n",
              "    </tr>\n",
              "    <tr>\n",
              "      <th>6367</th>\n",
              "      <td>0.0</td>\n",
              "      <td>0.0</td>\n",
              "      <td>-0.657082</td>\n",
              "      <td>cleaning products</td>\n",
              "      <td>13.49</td>\n",
              "      <td>3</td>\n",
              "      <td>5</td>\n",
              "      <td>5</td>\n",
              "      <td>10</td>\n",
              "    </tr>\n",
              "  </tbody>\n",
              "</table>\n",
              "<p>8676 rows × 9 columns</p>\n",
              "</div>"
            ],
            "text/plain": [
              "       quantity  total  temperature           category  unit_price  month  \\\n",
              "6641        0.0    0.0     0.160429            kitchen       19.19      3   \n",
              "10739       0.0    0.0    -0.165077      personal care        3.49      3   \n",
              "32          0.0    0.0    -0.028850             snacks        1.99      3   \n",
              "6793        0.0    0.0     0.671020     packaged foods        7.19      3   \n",
              "10482       0.0    0.0    -0.003988   spices and herbs        2.19      3   \n",
              "...         ...    ...          ...                ...         ...    ...   \n",
              "919         0.0    0.0     0.337059           medicine       12.99      3   \n",
              "8710        0.0    0.0    -0.827895   spices and herbs        0.19      3   \n",
              "10798       0.0    0.0    -0.165077       canned foods        7.49      3   \n",
              "3606        0.0    0.0     0.982000      baby products       15.99      3   \n",
              "6367        0.0    0.0    -0.657082  cleaning products       13.49      3   \n",
              "\n",
              "       day  day_of_week  hour  \n",
              "6641     5            5    12  \n",
              "10739    7            0    19  \n",
              "32       1            1     9  \n",
              "6793     5            5    13  \n",
              "10482    7            0    17  \n",
              "...    ...          ...   ...  \n",
              "919      1            1    15  \n",
              "8710     6            6    15  \n",
              "10798    7            0    19  \n",
              "3606     3            3    12  \n",
              "6367     5            5    10  \n",
              "\n",
              "[8676 rows x 9 columns]"
            ]
          },
          "execution_count": 28,
          "metadata": {},
          "output_type": "execute_result"
        }
      ],
      "source": [
        "X_train, X_test, y_train, y_test = train_test_split(X, y, test_size=0.2)\n",
        "X_train"
      ]
    },
    {
      "cell_type": "code",
      "execution_count": 29,
      "metadata": {
        "colab": {
          "base_uri": "https://localhost:8080/"
        },
        "id": "-z1ZaUjzoV5z",
        "outputId": "6dce4a35-2b3b-46c3-ad3c-b3dbaa11314c"
      },
      "outputs": [
        {
          "data": {
            "text/plain": [
              "6641     0.87\n",
              "10739    0.06\n",
              "32       0.22\n",
              "6793     0.75\n",
              "10482    0.73\n",
              "         ... \n",
              "919      0.93\n",
              "8710     0.91\n",
              "10798    0.14\n",
              "3606     0.03\n",
              "6367     0.66\n",
              "Name: estimated_stock_pct, Length: 8676, dtype: float64"
            ]
          },
          "execution_count": 29,
          "metadata": {},
          "output_type": "execute_result"
        }
      ],
      "source": [
        "y_train"
      ]
    },
    {
      "cell_type": "code",
      "execution_count": 30,
      "metadata": {
        "colab": {
          "base_uri": "https://localhost:8080/"
        },
        "id": "C6oUBtBVZTzO",
        "outputId": "fabd50ff-72f4-432a-d583-6f7f039ed6cf"
      },
      "outputs": [
        {
          "name": "stdout",
          "output_type": "stream",
          "text": [
            "<class 'pandas.core.frame.DataFrame'>\n",
            "Int64Index: 10845 entries, 0 to 10844\n",
            "Data columns (total 9 columns):\n",
            " #   Column       Non-Null Count  Dtype   \n",
            "---  ------       --------------  -----   \n",
            " 0   quantity     10845 non-null  float64 \n",
            " 1   total        10845 non-null  float64 \n",
            " 2   temperature  10845 non-null  float64 \n",
            " 3   category     10845 non-null  category\n",
            " 4   unit_price   10845 non-null  float64 \n",
            " 5   month        10845 non-null  int64   \n",
            " 6   day          10845 non-null  int64   \n",
            " 7   day_of_week  10845 non-null  int64   \n",
            " 8   hour         10845 non-null  int64   \n",
            "dtypes: category(1), float64(4), int64(4)\n",
            "memory usage: 773.8 KB\n"
          ]
        }
      ],
      "source": [
        "X.info()"
      ]
    },
    {
      "cell_type": "code",
      "execution_count": 31,
      "metadata": {
        "colab": {
          "base_uri": "https://localhost:8080/",
          "height": 300
        },
        "id": "2O2SqzvDcJH9",
        "outputId": "62d43969-1462-46b2-b608-e1b8c0cb655a"
      },
      "outputs": [
        {
          "data": {
            "text/html": [
              "<div>\n",
              "<style scoped>\n",
              "    .dataframe tbody tr th:only-of-type {\n",
              "        vertical-align: middle;\n",
              "    }\n",
              "\n",
              "    .dataframe tbody tr th {\n",
              "        vertical-align: top;\n",
              "    }\n",
              "\n",
              "    .dataframe thead th {\n",
              "        text-align: right;\n",
              "    }\n",
              "</style>\n",
              "<table border=\"1\" class=\"dataframe\">\n",
              "  <thead>\n",
              "    <tr style=\"text-align: right;\">\n",
              "      <th></th>\n",
              "      <th>quantity</th>\n",
              "      <th>total</th>\n",
              "      <th>temperature</th>\n",
              "      <th>unit_price</th>\n",
              "      <th>month</th>\n",
              "      <th>day</th>\n",
              "      <th>day_of_week</th>\n",
              "      <th>hour</th>\n",
              "    </tr>\n",
              "  </thead>\n",
              "  <tbody>\n",
              "    <tr>\n",
              "      <th>count</th>\n",
              "      <td>10845.000000</td>\n",
              "      <td>10845.000000</td>\n",
              "      <td>10845.000000</td>\n",
              "      <td>10845.000000</td>\n",
              "      <td>10845.0</td>\n",
              "      <td>10845.000000</td>\n",
              "      <td>10845.000000</td>\n",
              "      <td>10845.000000</td>\n",
              "    </tr>\n",
              "    <tr>\n",
              "      <th>mean</th>\n",
              "      <td>0.908529</td>\n",
              "      <td>5.818700</td>\n",
              "      <td>-0.213678</td>\n",
              "      <td>8.938575</td>\n",
              "      <td>3.0</td>\n",
              "      <td>4.010973</td>\n",
              "      <td>2.988566</td>\n",
              "      <td>13.997234</td>\n",
              "    </tr>\n",
              "    <tr>\n",
              "      <th>std</th>\n",
              "      <td>1.787680</td>\n",
              "      <td>13.155445</td>\n",
              "      <td>0.649671</td>\n",
              "      <td>5.390235</td>\n",
              "      <td>0.0</td>\n",
              "      <td>1.998378</td>\n",
              "      <td>1.998261</td>\n",
              "      <td>3.165366</td>\n",
              "    </tr>\n",
              "    <tr>\n",
              "      <th>min</th>\n",
              "      <td>0.000000</td>\n",
              "      <td>0.000000</td>\n",
              "      <td>-1.847270</td>\n",
              "      <td>0.190000</td>\n",
              "      <td>3.0</td>\n",
              "      <td>1.000000</td>\n",
              "      <td>0.000000</td>\n",
              "      <td>9.000000</td>\n",
              "    </tr>\n",
              "    <tr>\n",
              "      <th>25%</th>\n",
              "      <td>0.000000</td>\n",
              "      <td>0.000000</td>\n",
              "      <td>-0.657082</td>\n",
              "      <td>4.990000</td>\n",
              "      <td>3.0</td>\n",
              "      <td>2.000000</td>\n",
              "      <td>1.000000</td>\n",
              "      <td>11.000000</td>\n",
              "    </tr>\n",
              "    <tr>\n",
              "      <th>50%</th>\n",
              "      <td>0.000000</td>\n",
              "      <td>0.000000</td>\n",
              "      <td>-0.230631</td>\n",
              "      <td>8.190000</td>\n",
              "      <td>3.0</td>\n",
              "      <td>4.000000</td>\n",
              "      <td>3.000000</td>\n",
              "      <td>14.000000</td>\n",
              "    </tr>\n",
              "    <tr>\n",
              "      <th>75%</th>\n",
              "      <td>1.000000</td>\n",
              "      <td>3.725000</td>\n",
              "      <td>0.160429</td>\n",
              "      <td>12.490000</td>\n",
              "      <td>3.0</td>\n",
              "      <td>6.000000</td>\n",
              "      <td>5.000000</td>\n",
              "      <td>17.000000</td>\n",
              "    </tr>\n",
              "    <tr>\n",
              "      <th>max</th>\n",
              "      <td>15.000000</td>\n",
              "      <td>95.960000</td>\n",
              "      <td>1.435938</td>\n",
              "      <td>23.990000</td>\n",
              "      <td>3.0</td>\n",
              "      <td>7.000000</td>\n",
              "      <td>6.000000</td>\n",
              "      <td>19.000000</td>\n",
              "    </tr>\n",
              "  </tbody>\n",
              "</table>\n",
              "</div>"
            ],
            "text/plain": [
              "           quantity         total   temperature    unit_price    month  \\\n",
              "count  10845.000000  10845.000000  10845.000000  10845.000000  10845.0   \n",
              "mean       0.908529      5.818700     -0.213678      8.938575      3.0   \n",
              "std        1.787680     13.155445      0.649671      5.390235      0.0   \n",
              "min        0.000000      0.000000     -1.847270      0.190000      3.0   \n",
              "25%        0.000000      0.000000     -0.657082      4.990000      3.0   \n",
              "50%        0.000000      0.000000     -0.230631      8.190000      3.0   \n",
              "75%        1.000000      3.725000      0.160429     12.490000      3.0   \n",
              "max       15.000000     95.960000      1.435938     23.990000      3.0   \n",
              "\n",
              "                day   day_of_week          hour  \n",
              "count  10845.000000  10845.000000  10845.000000  \n",
              "mean       4.010973      2.988566     13.997234  \n",
              "std        1.998378      1.998261      3.165366  \n",
              "min        1.000000      0.000000      9.000000  \n",
              "25%        2.000000      1.000000     11.000000  \n",
              "50%        4.000000      3.000000     14.000000  \n",
              "75%        6.000000      5.000000     17.000000  \n",
              "max        7.000000      6.000000     19.000000  "
            ]
          },
          "execution_count": 31,
          "metadata": {},
          "output_type": "execute_result"
        }
      ],
      "source": [
        "X.describe()"
      ]
    },
    {
      "cell_type": "code",
      "execution_count": 32,
      "metadata": {
        "id": "Lp4VA0yaoXzU"
      },
      "outputs": [],
      "source": [
        "# Encode categorical features\n",
        "to_normalize = ['quantity', 'total', 'unit_price', 'temperature', 'month', 'day', 'hour']\n",
        "to_one_hot = ['category']\n",
        "\n",
        "# Preprocessing\n",
        "ct = make_column_transformer(\n",
        "    (OneHotEncoder(), to_one_hot),\n",
        "    (Normalizer(), to_normalize)\n",
        ")"
      ]
    },
    {
      "cell_type": "code",
      "execution_count": 33,
      "metadata": {},
      "outputs": [],
      "source": [
        "# ML pipeline function\n",
        "SCORER = 'neg_mean_absolute_error'\n",
        "def ml_pipeline_cv(model, ct, X_train: pd.DataFrame, y_train: pd.Series, cv: int, scorer: str=SCORER):\n",
        "    \"\"\"Creates a pipeline using a column transformer and model. K-fold cross validation\n",
        "    on the pipeline.\n",
        "\n",
        "    Args:\n",
        "        model: Model compatible with sklearn Pipeline.\n",
        "        ct: Sklearn column transformer.\n",
        "        X_train (pd.DataFrame): Features dataframe.\n",
        "        y_train (pd.Series): Target series.\n",
        "        cv (int): K-fold cross validation.\n",
        "        scorer (str, optional): Error metric. Defaults to SCORER.\n",
        "\n",
        "    Returns:\n",
        "        float: The average error selected.\n",
        "    \"\"\"\n",
        "    pipe = Pipeline([\n",
        "        ('ct', ct),\n",
        "        ('model', model)\n",
        "    ])\n",
        "    cv = cross_validate(pipe, X_train, y_train, cv=cv, scoring=scorer, error_score='raise')\n",
        "    return cv.get('test_score').mean()"
      ]
    },
    {
      "cell_type": "code",
      "execution_count": 34,
      "metadata": {
        "colab": {
          "base_uri": "https://localhost:8080/"
        },
        "id": "Sd65j3lnq-av",
        "outputId": "c727738b-2321-4afc-c49a-96ffda69d9cf"
      },
      "outputs": [
        {
          "name": "stdout",
          "output_type": "stream",
          "text": [
            "MAE: -0.224\n"
          ]
        }
      ],
      "source": [
        "# Linear Regression using Stochastic Gradient Descent\n",
        "sgd = SGDRegressor()\n",
        "mae = ml_pipeline_cv(sgd, ct, X_train, y_train, cv=4)\n",
        "print(f'MAE: {mae.round(3)}')"
      ]
    },
    {
      "cell_type": "code",
      "execution_count": 35,
      "metadata": {},
      "outputs": [
        {
          "name": "stdout",
          "output_type": "stream",
          "text": [
            "MAE: -0.226\n"
          ]
        }
      ],
      "source": [
        "# Support Vector Machine\n",
        "svr = SVR()\n",
        "mae = ml_pipeline_cv(svr, ct, X_train, y_train, cv=4)\n",
        "print(f'MAE: {mae.round(3)}')"
      ]
    },
    {
      "cell_type": "code",
      "execution_count": 36,
      "metadata": {
        "colab": {
          "base_uri": "https://localhost:8080/"
        },
        "id": "zeltrgFsuy_t",
        "outputId": "4339a04f-d3aa-41e1-d59c-fcb57f431f41"
      },
      "outputs": [
        {
          "name": "stdout",
          "output_type": "stream",
          "text": [
            "MAE: -0.237\n"
          ]
        }
      ],
      "source": [
        "# Random Forest\n",
        "rf = RandomForestRegressor()\n",
        "mae = ml_pipeline_cv(rf, ct, X_train, y_train, cv=4)\n",
        "print(f'MAE: {mae.round(3)}')"
      ]
    },
    {
      "cell_type": "code",
      "execution_count": 37,
      "metadata": {},
      "outputs": [
        {
          "name": "stdout",
          "output_type": "stream",
          "text": [
            "MAE: -0.226\n"
          ]
        }
      ],
      "source": [
        "# Soft Voting Regressor\n",
        "estimators = [('sgd', sgd), ('svr', svr), ('rf', rf)]\n",
        "vr = VotingRegressor(estimators=estimators)\n",
        "\n",
        "mae = ml_pipeline_cv(vr, ct, X_train, y_train, cv=4)\n",
        "print(f'MAE: {mae.round(3)}')"
      ]
    },
    {
      "cell_type": "code",
      "execution_count": 38,
      "metadata": {},
      "outputs": [
        {
          "name": "stdout",
          "output_type": "stream",
          "text": [
            "MAE: -0.224\n"
          ]
        }
      ],
      "source": [
        "# Soft Voting Regressor\n",
        "estimators = [('sgd', sgd), ('svr', svr)]\n",
        "vr = VotingRegressor(estimators=estimators)\n",
        "\n",
        "mae = ml_pipeline_cv(vr, ct, X_train, y_train, cv=4)\n",
        "print(f'MAE: {mae.round(3)}')"
      ]
    },
    {
      "cell_type": "markdown",
      "metadata": {
        "id": "pLtxW6N4jQLp"
      },
      "source": [
        "## Model Tuning"
      ]
    },
    {
      "cell_type": "code",
      "execution_count": 39,
      "metadata": {},
      "outputs": [],
      "source": [
        "# Tuning grid search function\n",
        "def model_tuning_cv(model, ct, param_grid, X_train: pd.DataFrame, y_train: pd.Series):\n",
        "    \"\"\"Creates a pipeline using a column transformer and model. Searched through all\n",
        "    specified parameters with K-fold cross validation on the pipeline.\n",
        "\n",
        "    Args:\n",
        "        model: Model compatible with sklearn Pipeline.\n",
        "        ct: Sklearn column transformer.\n",
        "        param_grid: Dict or list of dicts containing the parameters to search through.\n",
        "        X_train (pd.DataFrame): Features dataframe.\n",
        "        y_train (pd.Series): Target series.\n",
        "    \"\"\"\n",
        "    pipe = Pipeline([\n",
        "        ('ct', ct),\n",
        "        ('model', model)\n",
        "    ])\n",
        "    gs = GridSearchCV(pipe, param_grid, scoring=SCORER, n_jobs=5)\n",
        "    gs.fit(X_train, y_train)\n",
        "    print(gs.best_params_)"
      ]
    },
    {
      "cell_type": "markdown",
      "metadata": {},
      "source": [
        "### SGD Linear Regression"
      ]
    },
    {
      "cell_type": "code",
      "execution_count": 40,
      "metadata": {},
      "outputs": [
        {
          "name": "stdout",
          "output_type": "stream",
          "text": [
            "{'model__alpha': 0.1, 'model__l1_ratio': 0.5, 'model__learning_rate': 'constant', 'model__loss': 'squared_error', 'model__max_iter': 500, 'model__penalty': 'elasticnet'}\n"
          ]
        }
      ],
      "source": [
        "# Grid search\n",
        "params_sgd = [\n",
        "    {\n",
        "        'model__alpha': [0.1, 0.01, 0.001, 0.0001],\n",
        "        'model__loss': ['squared_error', 'huber'],\n",
        "        'model__penalty': ['l2', 'l1'],\n",
        "        'model__max_iter': [500, 1000, 1500, 2000],\n",
        "        'model__learning_rate': ['constant', 'optimal', 'invscaling', 'adaptive']\n",
        "    },\n",
        "    {\n",
        "        'model__alpha': [0.1, 0.01, 0.001, 0.0001],\n",
        "        'model__loss': ['squared_error', 'huber'],\n",
        "        'model__penalty': ['elasticnet'],\n",
        "        'model__l1_ratio': [0.5, 0.15, 0.25],\n",
        "        'model__max_iter': [500, 1000, 1500, 2000],\n",
        "        'model__learning_rate': ['constant', 'optimal', 'invscaling', 'adaptive']\n",
        "    }\n",
        "]\n",
        "model_tuning_cv(sgd, ct, params_sgd, X_train, y_train)"
      ]
    },
    {
      "cell_type": "code",
      "execution_count": 43,
      "metadata": {},
      "outputs": [
        {
          "name": "stdout",
          "output_type": "stream",
          "text": [
            "{'model__alpha': 0.1, 'model__l1_ratio': 0.6, 'model__learning_rate': 'constant', 'model__loss': 'squared_error', 'model__max_iter': 371, 'model__penalty': 'elasticnet'}\n"
          ]
        }
      ],
      "source": [
        "# Finer tune\n",
        "params_sgd_finer = {\n",
        "    'model__alpha': [0.1],\n",
        "    'model__l1_ratio': [0.6],\n",
        "    'model__learning_rate': ['constant'],\n",
        "    'model__loss': ['squared_error'],\n",
        "    'model__max_iter': np.arange(350, 400),\n",
        "    'model__penalty': ['elasticnet']\n",
        "}\n",
        "model_tuning_cv(sgd, ct, params_sgd_finer, X_train, y_train)"
      ]
    },
    {
      "cell_type": "code",
      "execution_count": 44,
      "metadata": {},
      "outputs": [
        {
          "name": "stdout",
          "output_type": "stream",
          "text": [
            "MAE: -0.223\n"
          ]
        }
      ],
      "source": [
        "sgd_best = SGDRegressor(\n",
        "    alpha=0.1, learning_rate='constant', max_iter=371, penalty='elasticnet', l1_ratio=0.6)\n",
        "\n",
        "mae = ml_pipeline_cv(sgd_best, ct, X_train, y_train, cv=5)\n",
        "print(f'MAE: {mae.round(3)}')"
      ]
    },
    {
      "cell_type": "markdown",
      "metadata": {},
      "source": [
        "### SVR"
      ]
    },
    {
      "cell_type": "code",
      "execution_count": 45,
      "metadata": {},
      "outputs": [
        {
          "name": "stdout",
          "output_type": "stream",
          "text": [
            "{'model__C': 1.0, 'model__coef0': 0, 'model__degree': 3, 'model__gamma': 'auto', 'model__kernel': 'poly'}\n"
          ]
        }
      ],
      "source": [
        "# Parameters\n",
        "params_svr = {\n",
        "    'model__kernel': ['linear', 'poly', 'rbf', 'sigmoid'],\n",
        "    'model__degree': np.arange(1, 12, 2),\n",
        "    'model__gamma': ['scale', 'auto'],\n",
        "    'model__coef0': [0, 0.5, 0.9],\n",
        "    'model__C': [1.0, 3.0, 5.0]\n",
        "}\n",
        "model_tuning_cv(svr, ct, params_svr, X_train, y_train)"
      ]
    },
    {
      "cell_type": "code",
      "execution_count": 47,
      "metadata": {},
      "outputs": [
        {
          "name": "stdout",
          "output_type": "stream",
          "text": [
            "{'model__C': 1, 'model__degree': 3, 'model__gamma': 'auto', 'model__kernel': 'poly'}\n"
          ]
        }
      ],
      "source": [
        "# Finer tune\n",
        "params_svr_finer = {\n",
        "    'model__kernel': ['poly'],\n",
        "    'model__degree': np.arange(1, 6),\n",
        "    'model__gamma': ['auto'],\n",
        "    'model__C': [1, 2]\n",
        "}\n",
        "model_tuning_cv(svr, ct, params_svr_finer, X_train, y_train)"
      ]
    },
    {
      "cell_type": "code",
      "execution_count": 48,
      "metadata": {},
      "outputs": [
        {
          "name": "stdout",
          "output_type": "stream",
          "text": [
            "MAE: -0.223\n"
          ]
        }
      ],
      "source": [
        "svr_best = SVR(kernel='poly', C=1, degree=3, gamma='auto', )\n",
        "mae = ml_pipeline_cv(svr_best, ct, X_train, y_train, cv=5)\n",
        "print(f'MAE: {mae.round(3)}')"
      ]
    },
    {
      "cell_type": "markdown",
      "metadata": {},
      "source": [
        "### Linear SGD & SVR Voting Regressor"
      ]
    },
    {
      "cell_type": "code",
      "execution_count": 49,
      "metadata": {},
      "outputs": [],
      "source": [
        "# Random tuning grid search function\n",
        "def random_model_tuning_cv(model, ct, params, X_train: pd.DataFrame, y_train: pd.Series, n_iter: int=10, random_state: int=123):\n",
        "    \"\"\"Creates a pipeline using a column transformer and model. Searches through a\n",
        "    random sample of specified parameters with K-fold cross validation on the pipeline.\n",
        "\n",
        "    Args:\n",
        "        model: Model compatible with sklearn Pipeline.\n",
        "        ct: Sklearn column transformer.\n",
        "        params: Dict or list of dicts containing the parameters to search through.\n",
        "        X_train (pd.DataFrame): Features dataframe.\n",
        "        y_train (pd.Series): Target series.\n",
        "        n_iter (int, optional): Number of search iterations. Defaults to 10.\n",
        "        random_state (int, optional): Random state instance. Defaults to 123.\n",
        "    \"\"\"\n",
        "    pipe = Pipeline([\n",
        "        ('ct', ct),\n",
        "        ('model', model)\n",
        "    ])\n",
        "    random_gs = RandomizedSearchCV(\n",
        "        pipe, params, n_iter=n_iter, cv=4, n_jobs=5, scoring=SCORER, random_state=random_state)\n",
        "    random_gs.fit(X_train, y_train)\n",
        "    print(random_gs.best_params_)"
      ]
    },
    {
      "cell_type": "code",
      "execution_count": 50,
      "metadata": {},
      "outputs": [
        {
          "name": "stdout",
          "output_type": "stream",
          "text": [
            "{'model__svr__kernel': 'poly', 'model__svr__gamma': 'auto', 'model__svr__degree': 11, 'model__svr__C': 3, 'model__sgd__penalty': 'l1', 'model__sgd__loss': 'squared_error', 'model__sgd__learning_rate': 'constant', 'model__sgd__alpha': 0.1}\n"
          ]
        }
      ],
      "source": [
        "params_sgd_svr = [\n",
        "    {\n",
        "        'model__sgd__alpha': [0.1, 0.01, 0.001, 0.0001],\n",
        "        'model__sgd__loss': ['squared_error', 'huber'],\n",
        "        'model__sgd__penalty': ['l2', 'l1'],\n",
        "        'model__sgd__learning_rate': ['constant', 'optimal', 'invscaling', 'adaptive'],\n",
        "        'model__svr__kernel': ['linear', 'poly', 'rbf', 'sigmoid'],\n",
        "        'model__svr__degree': [1, 3, 5, 7, 9, 11, 13, 15],\n",
        "        'model__svr__gamma': ['scale', 'auto'],\n",
        "        'model__svr__C': np.arange(1, 12, 2)\n",
        "    },\n",
        "    {\n",
        "        'model__sgd__alpha': [ 0.01, 0.001],\n",
        "        'model__sgd__loss': ['squared_error', 'huber'],\n",
        "        'model__sgd__penalty': ['elasticnet'],\n",
        "        'model__sgd__l1_ratio': [0.2, 0.5, 0.7, 0.9],\n",
        "        'model__sgd__learning_rate': ['constant', 'optimal', 'invscaling', 'adaptive'],\n",
        "        'model__svr__kernel': ['linear', 'poly', 'rbf', 'sigmoid'],\n",
        "        'model__svr__degree': [1, 3, 5, 7, 9, 11, 13, 15],\n",
        "        'model__svr__gamma': ['scale', 'auto'],\n",
        "        'model__svr__C': np.arange(1, 12, 2)\n",
        "    }\n",
        "]\n",
        "estimators = [\n",
        "    ('sgd', SGDRegressor()),\n",
        "    ('svr', SVR())\n",
        "]\n",
        "voting_reg = VotingRegressor(estimators, n_jobs=5)\n",
        "random_model_tuning_cv(\n",
        "    voting_reg, ct, params_sgd_svr, X_train, y_train, n_iter=500)"
      ]
    },
    {
      "cell_type": "code",
      "execution_count": 51,
      "metadata": {},
      "outputs": [
        {
          "name": "stdout",
          "output_type": "stream",
          "text": [
            "{'model__sgd__alpha': 0.3, 'model__sgd__learning_rate': 'constant', 'model__sgd__loss': 'squared_error', 'model__sgd__penalty': 'l1', 'model__svr__C': 5, 'model__svr__degree': 19, 'model__svr__gamma': 'auto', 'model__svr__kernel': 'poly'}\n"
          ]
        }
      ],
      "source": [
        "# Finer tune\n",
        "params_sgd_svr = {\n",
        "    'model__sgd__alpha': [0.1, 0.3],\n",
        "    'model__sgd__loss': ['squared_error'],\n",
        "    'model__sgd__penalty': ['l1'],\n",
        "    'model__sgd__learning_rate': ['constant'],\n",
        "    'model__svr__kernel': ['poly'],\n",
        "    'model__svr__degree': np.arange(10, 21),\n",
        "    'model__svr__gamma': ['auto'],\n",
        "    'model__svr__C': np.arange(1, 7)\n",
        "}\n",
        "voting_reg = VotingRegressor(estimators, n_jobs=5)\n",
        "model_tuning_cv(voting_reg, ct, params_sgd_svr, X_train, y_train)"
      ]
    },
    {
      "cell_type": "code",
      "execution_count": 52,
      "metadata": {},
      "outputs": [
        {
          "name": "stdout",
          "output_type": "stream",
          "text": [
            "MAE: -0.223\n"
          ]
        }
      ],
      "source": [
        "# Calculate MAE for Voting Regressor\n",
        "voting_sgd_best = SGDRegressor(\n",
        "    alpha=0.3, penalty='l1', learning_rate='constant')\n",
        "voting_svr_best = SVR(\n",
        "    kernel='poly', degree=19, gamma='auto', C=5)\n",
        "\n",
        "estimators_best = [\n",
        "    ('sgd', voting_sgd_best),\n",
        "    ('svr', voting_svr_best)\n",
        "]\n",
        "voting_reg_best = VotingRegressor(estimators_best)\n",
        "\n",
        "mae = ml_pipeline_cv(voting_reg_best, ct, X_train, y_train, cv=5)\n",
        "print(f'MAE: {mae.round(3)}')"
      ]
    },
    {
      "cell_type": "markdown",
      "metadata": {},
      "source": [
        "### Final Model"
      ]
    },
    {
      "cell_type": "markdown",
      "metadata": {},
      "source": [
        "The models that produced the same mean absolute error were:\n",
        "- Linear Regression with SGD\n",
        "- Support Vector Machine\n",
        "- Voting Regressor with Linear Regression and SVM\n",
        "\n",
        "However, the linear model was drastically faster at fitting. Therefore, this model will be used for production and scaling."
      ]
    },
    {
      "cell_type": "code",
      "execution_count": 53,
      "metadata": {},
      "outputs": [
        {
          "data": {
            "text/plain": [
              "['Task_4/final_model.pkl']"
            ]
          },
          "execution_count": 53,
          "metadata": {},
          "output_type": "execute_result"
        }
      ],
      "source": [
        "# Save model as pickle file\n",
        "joblib.dump(sgd_best, 'Task_4/final_model.pkl')"
      ]
    },
    {
      "cell_type": "code",
      "execution_count": null,
      "metadata": {},
      "outputs": [],
      "source": []
    }
  ],
  "metadata": {
    "colab": {
      "collapsed_sections": [],
      "provenance": []
    },
    "kernelspec": {
      "display_name": "Python 3.10.2 ('ml_env')",
      "language": "python",
      "name": "python3"
    },
    "language_info": {
      "codemirror_mode": {
        "name": "ipython",
        "version": 3
      },
      "file_extension": ".py",
      "mimetype": "text/x-python",
      "name": "python",
      "nbconvert_exporter": "python",
      "pygments_lexer": "ipython3",
      "version": "3.10.2"
    },
    "vscode": {
      "interpreter": {
        "hash": "56d92c3c4eb078514d6af950c77e71013bbef4a25944e30d84096dc9797e13f7"
      }
    }
  },
  "nbformat": 4,
  "nbformat_minor": 0
}
